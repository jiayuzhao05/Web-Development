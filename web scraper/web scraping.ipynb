{
 "cells": [
  {
   "cell_type": "markdown",
   "id": "015de1fb",
   "metadata": {},
   "source": [
    "Custom——token-autho"
   ]
  },
  {
   "cell_type": "markdown",
   "id": "650c3e4a",
   "metadata": {},
   "source": [
    "用自定义的 Token 认证方式访问需要 Bearer Token 的 API（如 GitHub），并打印返回结果"
   ]
  },
  {
   "cell_type": "code",
   "execution_count": null,
   "id": "0b9ec741",
   "metadata": {},
   "outputs": [],
   "source": [
    "import requests\n",
    "from requests.auth import AuthBase\n"
   ]
  },
  {
   "cell_type": "code",
   "execution_count": null,
   "id": "4f14a344",
   "metadata": {},
   "outputs": [],
   "source": [
    "class TokenAuth(AuthBase):\n",
    "    \"\"\"Implements a token authentication scheme.\"\"\"\n",
    "\n",
    "    def __init__(self, token):\n",
    "        self.token = token\n",
    "\n",
    "    def __call__(self, r):\n",
    "        \"\"\"Attach an API token to the Authorization header.\"\"\"\n",
    "        r.headers[\"Authorization\"] = f\"Bearer {self.token}\"\n",
    "        return r\n"
   ]
  },
  {
   "cell_type": "code",
   "execution_count": null,
   "id": "f7edf7b6",
   "metadata": {},
   "outputs": [],
   "source": [
    "if __name__ == \"__main__\":\n",
    "    token = \"<YOUR_GITHUB_PA_TOKEN>\"\n",
    "    response = requests.get(\n",
    "        \"https://api.github.com/user\", auth=TokenAuth(token)\n",
    "    )\n",
    "    print(response.status_code)\n",
    "    print(response.text)"
   ]
  },
  {
   "cell_type": "markdown",
   "id": "ea02829a",
   "metadata": {},
   "source": [
    "persist-info-with-session"
   ]
  },
  {
   "cell_type": "markdown",
   "id": "ac2aeb94",
   "metadata": {},
   "source": [
    "使用 requests 的 Session 对象来持久化认证信息，并多次发送带有自定义 Token 认证的请求"
   ]
  },
  {
   "cell_type": "code",
   "execution_count": null,
   "id": "3300d08f",
   "metadata": {},
   "outputs": [],
   "source": [
    "import requests\n",
    "from custom_token_auth import TokenAuth"
   ]
  },
  {
   "cell_type": "code",
   "execution_count": null,
   "id": "ec0861f3",
   "metadata": {},
   "outputs": [],
   "source": [
    "TOKEN = \"<YOUR_GITHUB_PA_TOKEN>\""
   ]
  },
  {
   "cell_type": "code",
   "execution_count": null,
   "id": "682a09d1",
   "metadata": {},
   "outputs": [],
   "source": [
    "with requests.Session() as session:\n",
    "    session.auth = TokenAuth(TOKEN)\n",
    "\n",
    "    first_response = session.get(\"https://api.github.com/user\")\n",
    "    second_response = session.get(\"https://api.github.com/user\")\n",
    "\n",
    "print(first_response.headers)\n",
    "print(second_response.json())"
   ]
  },
  {
   "cell_type": "markdown",
   "id": "d1b69c9d",
   "metadata": {},
   "source": [
    "raise error"
   ]
  },
  {
   "cell_type": "markdown",
   "id": "21db707d",
   "metadata": {},
   "source": [
    "用 requests 库处理 HTTP 请求中的异常（错误），特别是如何捕获和处理 HTTP 错误"
   ]
  },
  {
   "cell_type": "code",
   "execution_count": null,
   "id": "588351aa",
   "metadata": {},
   "outputs": [],
   "source": [
    "import requests\n",
    "from requests.exceptions import HTTPError"
   ]
  },
  {
   "cell_type": "code",
   "execution_count": null,
   "id": "db9396f5",
   "metadata": {},
   "outputs": [],
   "source": [
    "URLS = [\"https://api.github.com\", \"https://api.github.com/invalid\"]\n",
    "for url in URLS:\n",
    "    try:\n",
    "        response = requests.get(url)\n",
    "        response.raise_for_status()\n",
    "    except HTTPError as http_err:\n",
    "        print(f\"HTTP error occurred: {http_err}\")\n",
    "    except Exception as err:\n",
    "        print(f\"Other error occurred: {err}\")\n",
    "    else:\n",
    "        print(\"Success!\")"
   ]
  },
  {
   "cell_type": "markdown",
   "id": "9bb4df11",
   "metadata": {},
   "source": [
    "Retry-twice"
   ]
  },
  {
   "cell_type": "markdown",
   "id": "f19f52c9",
   "metadata": {},
   "source": [
    "用 requests 库为特定网站设置自动重试机制"
   ]
  },
  {
   "cell_type": "code",
   "execution_count": null,
   "id": "d2edf488",
   "metadata": {},
   "outputs": [],
   "source": [
    "import requests  # 发送 HTTP 请求的第三方库\n",
    "from requests.adapters import HTTPAdapter  # requests 的适配器，可以自定义连接行为（如重试次数）\n",
    "from requests.exceptions import RetryError  # 当重试多次后仍然失败时抛出的异常"
   ]
  },
  {
   "cell_type": "code",
   "execution_count": null,
   "id": "803f8c9c",
   "metadata": {},
   "outputs": [],
   "source": [
    "github_adapter = HTTPAdapter(max_retries=2)  # 为 GitHub API 设置最大重试次数为 2，总共尝试 3 次：1 次原始 + 2 次重试）"
   ]
  },
  {
   "cell_type": "code",
   "execution_count": null,
   "id": "faf18237",
   "metadata": {},
   "outputs": [],
   "source": [
    "session = requests.Session()\n",
    "session.mount(\"https://api.github.com\", github_adapter) # 将适配器挂载到 GitHub API 上"
   ]
  },
  {
   "cell_type": "code",
   "execution_count": null,
   "id": "7c2f86fe",
   "metadata": {},
   "outputs": [],
   "source": [
    "try:\n",
    "    response = session.get(\"https://api.github.com/\")\n",
    "except RetryError as err:\n",
    "    print(f\"Error: {err}\")\n",
    "finally:\n",
    "    session.close()"
   ]
  },
  {
   "cell_type": "markdown",
   "id": "400fb0b7",
   "metadata": {},
   "source": [
    "retry_thrice"
   ]
  },
  {
   "cell_type": "code",
   "execution_count": null,
   "id": "33dc2710",
   "metadata": {},
   "outputs": [],
   "source": [
    "import logging\n",
    "import requests\n",
    "from requests.adapters import HTTPAdapter\n",
    "from requests.exceptions import RetryError\n",
    "from urllib3.util import Retry"
   ]
  },
  {
   "cell_type": "code",
   "execution_count": null,
   "id": "8832d617",
   "metadata": {},
   "outputs": [],
   "source": [
    "logging.basicConfig(level=logging.DEBUG)"
   ]
  },
  {
   "cell_type": "code",
   "execution_count": null,
   "id": "e7671e0a",
   "metadata": {},
   "outputs": [],
   "source": [
    "retries = Retry(total=3, status_forcelist=[404])"
   ]
  },
  {
   "cell_type": "code",
   "execution_count": null,
   "id": "268bf7bf",
   "metadata": {},
   "outputs": [],
   "source": [
    "github_adapter = HTTPAdapter(max_retries=retries)\n",
    "session = requests.Session()\n",
    "session.mount(\"https://api.github.com\", github_adapter)\n",
    "try:\n",
    "    response = session.get(\"https://api.github.com/\")\n",
    "    print(response.status_code)\n",
    "    response = session.get(\"https://api.github.com/invalid\")\n",
    "    print(response.status_code)\n",
    "except RetryError as err:\n",
    "    print(f\"Error: {err}\")\n",
    "finally:\n",
    "    session.close()\n",
    "timeout_catcher\n",
    "import requests\n",
    "from requests.exceptions import Timeout"
   ]
  },
  {
   "cell_type": "markdown",
   "id": "376ac51d",
   "metadata": {},
   "source": [
    "text-matches"
   ]
  },
  {
   "cell_type": "markdown",
   "id": "15c47afe",
   "metadata": {},
   "source": [
    "使用 GitHub 搜索 API，并获取搜索结果中关于关键词匹配的详细信息"
   ]
  },
  {
   "cell_type": "code",
   "execution_count": null,
   "id": "cdf031ee",
   "metadata": {},
   "outputs": [],
   "source": [
    "response = requests.get(\n",
    "    \"https://api.github.com/search/repositories\",\n",
    "    params={\"q\": '\"real python\"'},\n",
    "    headers={\"Accept\": \"application/vnd.github.text-match+json\"},\n",
    ")"
   ]
  },
  {
   "cell_type": "code",
   "execution_count": null,
   "id": "3395b732",
   "metadata": {},
   "outputs": [],
   "source": [
    "json_response = response.json()\n",
    "first_repository = json_response[\"items\"][0]\n",
    "print(first_repository[\"text_matches\"][0][\"matches\"])"
   ]
  },
  {
   "cell_type": "markdown",
   "id": "160e385d",
   "metadata": {},
   "source": [
    "search_popular_repos"
   ]
  },
  {
   "cell_type": "code",
   "execution_count": null,
   "id": "742a9ce3",
   "metadata": {},
   "outputs": [],
   "source": [
    "import requests"
   ]
  },
  {
   "cell_type": "code",
   "execution_count": null,
   "id": "854fdc37",
   "metadata": {},
   "outputs": [],
   "source": [
    "# Search GitHub's repositories for popular Python projects\n",
    "response = requests.get(\n",
    "    \"https://api.github.com/search/repositories\",\n",
    "    params={\"q\": \"language:python\", \"sort\": \"stars\", \"order\": \"desc\"},\n",
    ")\n",
    "# q 是搜索的关键词，sort 是排序方式，order 是排序方向，星标最多的在前"
   ]
  },
  {
   "cell_type": "code",
   "execution_count": null,
   "id": "23788028",
   "metadata": {},
   "outputs": [],
   "source": [
    "# Inspect some attributes of the first three repositories\n",
    "json_response = response.json()  # 将响应转换为 JSON 格式\n",
    "popular_repositories = json_response[\"items\"]  # 获取搜索结果中的前三个仓库\n",
    "for repo in popular_repositories[:3]:\n",
    "    print(f\"Name: {repo['name']}\")\n",
    "    print(f\"Description: {repo['description']}\")\n",
    "    print(f\"Stars: {repo['stargazers_count']}\")\n",
    "    print()"
   ]
  },
  {
   "cell_type": "markdown",
   "id": "2a118261",
   "metadata": {},
   "source": [
    "Timeout_catcher"
   ]
  },
  {
   "cell_type": "code",
   "execution_count": null,
   "id": "4a509d9a",
   "metadata": {},
   "outputs": [],
   "source": [
    "import requests\n",
    "from requests.exceptions import Timeout"
   ]
  },
  {
   "cell_type": "code",
   "execution_count": null,
   "id": "302a3c20",
   "metadata": {},
   "outputs": [],
   "source": [
    "try:\n",
    "    response = requests.get(\"https://api.github.com\", timeout=(3.05, 5))\n",
    "except Timeout:\n",
    "    print(\"The request timed out\")\n",
    "else:\n",
    "    print(\"The request did not time out\")"
   ]
  }
 ],
 "metadata": {
  "language_info": {
   "name": "python"
  }
 },
 "nbformat": 4,
 "nbformat_minor": 5
}
